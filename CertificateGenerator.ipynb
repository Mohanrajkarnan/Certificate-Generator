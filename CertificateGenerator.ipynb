{
 "cells": [
  {
   "cell_type": "code",
   "execution_count": 2,
   "metadata": {},
   "outputs": [
    {
     "name": "stdout",
     "output_type": "stream",
     "text": [
      "Mohanraj 2 4/11/2018 Xen.ai\n",
      "Vaishali 1 4/11/2018 Xen.ai\n",
      "Varun 3 4/11/2018 Xen.ai\n"
     ]
    },
    {
     "data": {
      "text/plain": [
       "<__main__.Certificate at 0x1e4a33b6128>"
      ]
     },
     "execution_count": 2,
     "metadata": {},
     "output_type": "execute_result"
    }
   ],
   "source": [
    "import pandas as pd\n",
    "import numpy as np\n",
    "\n",
    "\n",
    "\n",
    "data = pd.read_csv(\"Documents/CertifiacteData.csv\")\n",
    "df = pd.DataFrame(data)\n",
    "\n",
    "# Data Cleaning , Adding Default values\n",
    "df.Rank = data.Rank.fillna(0)\n",
    "df.WinnersName = data.WinnersName.fillna(\"\")\n",
    "\n",
    "# Datatype conversion\n",
    "df.Rank = df.Rank.astype(int)\n",
    "\n",
    "rankCount = list(df[\"Rank\"]>0).count(True) #Getting count for looping\n",
    "participantsCount = list(df[\"ParticipantsName\"])\n",
    "\n",
    "class Certificate():\n",
    "  def __init__(self,dateOfIssue,nameOfInstitue):\n",
    "    self.dateOfIssue = dateOfIssue\n",
    "    self.nameOfInstitue = nameOfInstitue\n",
    "    \n",
    "  def winnersCertificate(self):\n",
    "    for i in range(0,rankCount):\n",
    "      print(df[\"WinnersName\"][i] , df[\"Rank\"][i], self.dateOfIssue , self.nameOfInstitue)\n",
    "  \n",
    "  def participationCertificate(self):\n",
    "    for i in range(0,len(participantsCount)):\n",
    "      print(df[\"ParticipantsName\"][i] ,self.dateOfIssue , self.nameOfInstitue)\n",
    "  \n",
    "    \n",
    "c= Certificate(\"4/11/2018\",\"Xen.ai\")\n",
    "c.winnersCertificate()\n",
    "#c.participationCertificate()\n",
    "c"
   ]
  },
  {
   "cell_type": "code",
   "execution_count": 6,
   "metadata": {},
   "outputs": [
    {
     "name": "stdout",
     "output_type": "stream",
     "text": [
      "Collecting python-pptx\n",
      "  Downloading https://files.pythonhosted.org/packages/bd/53/c1d1a7a623cf0e9fa7814d518c518338035c92c55934be3f373af55cfc46/python-pptx-0.6.16.tar.gz (8.9MB)\n",
      "Requirement already satisfied: lxml>=3.1.0 in d:\\ananconda_installation\\lib\\site-packages (from python-pptx) (4.2.5)\n",
      "Requirement already satisfied: Pillow>=3.3.2 in d:\\ananconda_installation\\lib\\site-packages (from python-pptx) (5.2.0)\n",
      "Requirement already satisfied: XlsxWriter>=0.5.7 in d:\\ananconda_installation\\lib\\site-packages (from python-pptx) (1.1.0)\n",
      "Building wheels for collected packages: python-pptx\n",
      "  Running setup.py bdist_wheel for python-pptx: started\n",
      "  Running setup.py bdist_wheel for python-pptx: finished with status 'done'\n",
      "  Stored in directory: C:\\Users\\Mohanraj\\AppData\\Local\\pip\\Cache\\wheels\\44\\df\\ba\\67034000ef59dd8c84d48d31e85424d9387e221007d963e1fc\n",
      "Successfully built python-pptx\n",
      "Installing collected packages: python-pptx\n",
      "Successfully installed python-pptx-0.6.16\n"
     ]
    },
    {
     "name": "stderr",
     "output_type": "stream",
     "text": [
      "twisted 18.7.0 requires PyHamcrest>=1.9.0, which is not installed.\n",
      "You are using pip version 10.0.1, however version 18.1 is available.\n",
      "You should consider upgrading via the 'python -m pip install --upgrade pip' command.\n"
     ]
    }
   ],
   "source": [
    "!pip install python-pptx"
   ]
  },
  {
   "cell_type": "code",
   "execution_count": 3,
   "metadata": {},
   "outputs": [],
   "source": [
    "from pptx import Presentation\n",
    "prs = Presentation()\n",
    "title_slide_layout = prs.slide_layouts[0]\n",
    "slide = prs.slides.add_slide(title_slide_layout)\n",
    "title = slide.shapes.title\n",
    "subtitle = slide.placeholders[1]\n",
    "\n",
    "title.text = \"Hello, World!\"\n",
    "subtitle.text = \"python-pptx was here!\"\n",
    "\n",
    "prs.save('C:\\\\Users\\\\Mohanraj\\\\Data science projects\\\\CertificateGenerator\\\\test.pptx')"
   ]
  },
  {
   "cell_type": "code",
   "execution_count": 102,
   "metadata": {},
   "outputs": [
    {
     "name": "stdout",
     "output_type": "stream",
     "text": [
      "Employee of the Month\n",
      "awarded to\n",
      "Name of Recipient\n",
      "in recognition of\n",
      "your dedication, passion, and hard work\n",
      "Signed\n",
      "Name/Title of Presenter\n",
      "Date\n"
     ]
    }
   ],
   "source": [
    "prs = Presentation('C:\\\\Users\\\\Mohanraj\\\\Data science projects\\\\CertificateGenerator\\\\TemplateCertificate.pptx')\n",
    "\n",
    "# text_runs will be populated with a list of strings,\n",
    "# one for each text run in presentation\n",
    "\n",
    "#name = raw_input(\"What text you want to modify? Type DONE if changes is over !!! \")\n",
    "name = \"Employee of the Month\"\n",
    "text_runs = []\n",
    "\n",
    "for slide in prs.slides:\n",
    "    for shape in slide.shapes:\n",
    "        if not shape.has_text_frame:\n",
    "            continue\n",
    "        for paragraph in shape.text_frame.paragraphs:\n",
    "            for run in paragraph.runs:\n",
    "                if run.text.lower() == name.lower():\n",
    "                    shape.text_frame.clear()\n",
    "                    paragraph.text= \"Mohan\"\n",
    "                  \n",
    "#prs.save('C:\\\\Users\\\\Mohanraj\\\\Data science projects\\\\CertificateGenerator\\\\test.pptx')\n",
    "    "
   ]
  },
  {
   "cell_type": "code",
   "execution_count": 134,
   "metadata": {},
   "outputs": [
    {
     "name": "stdout",
     "output_type": "stream",
     "text": [
      "[{'WinnersName': 'Mohanraj', 'Rank': 2.0, 'ParticipantsName': 'Sanju'}, {'WinnersName': 'Vaishali', 'Rank': 1.0, 'ParticipantsName': 'Pappu'}, {'WinnersName': 'Varun', 'Rank': 3.0, 'ParticipantsName': 'Divya'}, {'WinnersName': 'NA', 'Rank': nan, 'ParticipantsName': 'Mohanraj'}, {'WinnersName': 'NA', 'Rank': nan, 'ParticipantsName': 'Vaishali'}, {'WinnersName': 'NA', 'Rank': nan, 'ParticipantsName': 'Varun'}, {'WinnersName': 'NA', 'Rank': nan, 'ParticipantsName': 'Dinesh'}]\n"
     ]
    }
   ],
   "source": [
    "import pandas as pd\n",
    "import numpy as np\n",
    "\n",
    "\n",
    "data = pd.read_csv(\"Documents/CertifiacteData.csv\")\n",
    "df = pd.DataFrame(data)\n",
    "accessingFirstColoum= str(data.columns[0])\n",
    "df[accessingFirstColoum]= df[accessingFirstColoum].fillna(\"NA\")\n",
    "columnCount = len(df.index)\n",
    "headersList = data.columns\n",
    "lst=[]\n",
    "class Certificate():\n",
    "    \n",
    "    def generateCertificate(self):\n",
    "        \n",
    "        for i in range(0,columnCount):\n",
    "            dict = {}\n",
    "            for k in headersList:\n",
    "                \n",
    "                key = k\n",
    "                value = df[k][i]\n",
    "                dict[key] = value\n",
    "            lst.append(dict)\n",
    "        print(lst)        \n",
    "\n",
    "c= Certificate()\n",
    "c.generateCertificate()\n"
   ]
  },
  {
   "cell_type": "code",
   "execution_count": 106,
   "metadata": {},
   "outputs": [
    {
     "name": "stdout",
     "output_type": "stream",
     "text": [
      "What is your name? dfsa\n",
      "What is your age5\n",
      "What is your name? afd5\n",
      "What is your age1\n",
      "dfsa\n",
      "afd5\n"
     ]
    }
   ],
   "source": [
    "lst=[]\n",
    "\n",
    "for j in range(0,2):\n",
    "    dict ={}\n",
    "    key = input(\"What is your name? \")\n",
    "    value= input(\"What is your age\")\n",
    "    \n",
    "    dict['Name'] = key\n",
    "    dict['Age'] = value\n",
    "    lst.append(dict)\n",
    "    \n",
    "for l in lst:\n",
    "    print(l[\"Name\"])\n",
    "    \n"
   ]
  },
  {
   "cell_type": "code",
   "execution_count": null,
   "metadata": {},
   "outputs": [],
   "source": []
  }
 ],
 "metadata": {
  "kernelspec": {
   "display_name": "Python 3",
   "language": "python",
   "name": "python3"
  },
  "language_info": {
   "codemirror_mode": {
    "name": "ipython",
    "version": 3
   },
   "file_extension": ".py",
   "mimetype": "text/x-python",
   "name": "python",
   "nbconvert_exporter": "python",
   "pygments_lexer": "ipython3",
   "version": "3.7.0"
  }
 },
 "nbformat": 4,
 "nbformat_minor": 2
}
